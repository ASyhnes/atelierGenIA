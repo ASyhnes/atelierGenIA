{
 "cells": [
  {
   "cell_type": "markdown",
   "id": "e390e0ed-fd98-4ecb-b50b-aa43a7cc9b9f",
   "metadata": {},
   "source": [
    "### Cours IA GEN"
   ]
  },
  {
   "cell_type": "code",
   "execution_count": null,
   "id": "529eb27d-246d-4351-b5a3-3cb7dba3c884",
   "metadata": {},
   "outputs": [],
   "source": [
    "!pip install openai "
   ]
  }
 ],
 "metadata": {
  "kernelspec": {
   "display_name": "Python 3 (ipykernel)",
   "language": "python",
   "name": "python3"
  },
  "language_info": {
   "codemirror_mode": {
    "name": "ipython",
    "version": 3
   },
   "file_extension": ".py",
   "mimetype": "text/x-python",
   "name": "python",
   "nbconvert_exporter": "python",
   "pygments_lexer": "ipython3",
   "version": "3.12.6"
  }
 },
 "nbformat": 4,
 "nbformat_minor": 5
}
